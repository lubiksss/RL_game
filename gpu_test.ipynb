{
 "cells": [
  {
   "cell_type": "code",
   "execution_count": null,
   "id": "97e9a717",
   "metadata": {},
   "outputs": [],
   "source": [
    "import torch\n",
    " \n",
    "#  Returns a bool indicating if CUDA is currently available.\n",
    "print(torch.cuda.is_available())\n",
    "#  True\n",
    " \n",
    "#  Returns the index of a currently selected device.\n",
    "print(torch.cuda.current_device())\n",
    "#  0\n",
    " \n",
    "#  Returns the number of GPUs available.\n",
    "print(torch.cuda.device_count())\n",
    "#  1\n",
    " \n",
    "#  Gets the name of a device.\n",
    "print(torch.cuda.get_device_name(0))\n",
    "#  'GeForce GTX 1060'\n",
    " \n",
    "#  Context-manager that changes the selected device.\n",
    "#  device (torch.device or int) – device index to select. \n",
    "print(torch.cuda.device(0))"
   ]
  },
  {
   "cell_type": "code",
   "execution_count": 2,
   "id": "71fe7405",
   "metadata": {},
   "outputs": [],
   "source": [
    "import torch\n",
    " \n",
    "# Default CUDA device\n",
    "cuda = torch.device('cuda')\n",
    " \n",
    "# allocates a tensor on default GPU\n",
    "a = torch.tensor([1., 2.], device=cuda)\n",
    " \n",
    "# transfers a tensor from 'C'PU to 'G'PU\n",
    "b = torch.tensor([1., 2.]).cuda()\n",
    " \n",
    "# Same with .cuda()\n",
    "b2 = torch.tensor([1., 2.]).to(device=cuda)"
   ]
  },
  {
   "cell_type": "code",
   "execution_count": 3,
   "id": "f169686b",
   "metadata": {},
   "outputs": [
    {
     "data": {
      "text/plain": [
       "tensor([2., 4.], device='cuda:0')"
      ]
     },
     "execution_count": 3,
     "metadata": {},
     "output_type": "execute_result"
    }
   ],
   "source": [
    "a+b2"
   ]
  }
 ],
 "metadata": {
  "kernelspec": {
   "display_name": "Python 3",
   "language": "python",
   "name": "python3"
  },
  "language_info": {
   "codemirror_mode": {
    "name": "ipython",
    "version": 3
   },
   "file_extension": ".py",
   "mimetype": "text/x-python",
   "name": "python",
   "nbconvert_exporter": "python",
   "pygments_lexer": "ipython3",
   "version": "3.7.11"
  }
 },
 "nbformat": 4,
 "nbformat_minor": 5
}
